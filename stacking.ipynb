{
 "cells": [
  {
   "cell_type": "markdown",
   "metadata": {},
   "source": [
    "## Stacking primer, based on script by Faron\n"
   ]
  },
  {
   "cell_type": "code",
   "execution_count": 1,
   "metadata": {
    "collapsed": false
   },
   "outputs": [
    {
     "name": "stderr",
     "output_type": "stream",
     "text": [
      "/home/ryan/anaconda2/lib/python2.7/site-packages/sklearn/cross_validation.py:44: DeprecationWarning: This module was deprecated in version 0.18 in favor of the model_selection module into which all the refactored classes and functions are moved. Also note that the interface of the new CV iterators are different from that of this module. This module will be removed in 0.20.\n",
      "  \"This module will be removed in 0.20.\", DeprecationWarning)\n"
     ]
    }
   ],
   "source": [
    "import pandas as pd\n",
    "import numpy as np\n",
    "import xgboost as xgb\n",
    "from sklearn.cross_validation import KFold\n",
    "from sklearn.ensemble import ExtraTreesRegressor\n",
    "from sklearn.ensemble import RandomForestRegressor\n",
    "from sklearn.ensemble import AdaBoostRegressor\n",
    "from sklearn.metrics import mean_absolute_error"
   ]
  },
  {
   "cell_type": "markdown",
   "metadata": {},
   "source": [
    "Some parameter definitions"
   ]
  },
  {
   "cell_type": "code",
   "execution_count": 2,
   "metadata": {
    "collapsed": true
   },
   "outputs": [],
   "source": [
    "ID = 'id'\n",
    "TARGET = 'loss'\n",
    "NFOLDS = 4\n",
    "SEED = 0\n",
    "NROWS = None\n",
    "DATA_DIR = \"data\"\n",
    "\n",
    "TRAIN_FILE = \"{0}/train.csv\".format(DATA_DIR)\n",
    "TEST_FILE = \"{0}/test.csv\".format(DATA_DIR)\n",
    "SUBMISSION_FILE = \"{0}/sample_submission.csv\".format(DATA_DIR)"
   ]
  },
  {
   "cell_type": "code",
   "execution_count": 3,
   "metadata": {
    "collapsed": false
   },
   "outputs": [
    {
     "name": "stdout",
     "output_type": "stream",
     "text": [
      "(188318, 130),(125546, 130)\n"
     ]
    }
   ],
   "source": [
    "train = pd.read_csv(TRAIN_FILE, nrows=NROWS)\n",
    "test = pd.read_csv(TEST_FILE, nrows=NROWS)\n",
    "\n",
    "y_train = train[TARGET].ravel()\n",
    "\n",
    "train.drop([ID, TARGET], axis=1, inplace=True)\n",
    "test.drop([ID], axis=1, inplace=True)\n",
    "\n",
    "print(\"{},{}\".format(train.shape, test.shape))"
   ]
  },
  {
   "cell_type": "code",
   "execution_count": 4,
   "metadata": {
    "collapsed": true
   },
   "outputs": [],
   "source": [
    "ntrain = train.shape[0]\n",
    "ntest = test.shape[0]\n",
    "train_test = pd.concat((train, test)).reset_index(drop=True)\n",
    "\n",
    "features = train.columns"
   ]
  },
  {
   "cell_type": "code",
   "execution_count": 5,
   "metadata": {
    "collapsed": false
   },
   "outputs": [
    {
     "name": "stdout",
     "output_type": "stream",
     "text": [
      "   cat1  cat2  cat3  cat4  cat5  cat6  cat7  cat8  cat9  cat10    ...     \\\n",
      "0     0     1     0     1     0     0     0     0     1      0    ...      \n",
      "1     0     1     0     0     0     0     0     0     1      1    ...      \n",
      "2     0     1     0     0     1     0     0     0     1      1    ...      \n",
      "3     1     1     0     1     0     0     0     0     1      0    ...      \n",
      "4     0     1     0     1     0     0     0     0     1      1    ...      \n",
      "\n",
      "      cont5     cont6     cont7    cont8    cont9   cont10    cont11  \\\n",
      "0  0.310061  0.718367  0.335060  0.30260  0.67135  0.83510  0.569745   \n",
      "1  0.885834  0.438917  0.436585  0.60087  0.35127  0.43919  0.338312   \n",
      "2  0.397069  0.289648  0.315545  0.27320  0.26076  0.32446  0.381398   \n",
      "3  0.422268  0.440945  0.391128  0.31796  0.32128  0.44467  0.327915   \n",
      "4  0.704268  0.178193  0.247408  0.24564  0.22089  0.21230  0.204687   \n",
      "\n",
      "     cont12    cont13    cont14  \n",
      "0  0.594646  0.822493  0.714843  \n",
      "1  0.366307  0.611431  0.304496  \n",
      "2  0.373424  0.195709  0.774425  \n",
      "3  0.321570  0.605077  0.602642  \n",
      "4  0.202213  0.246011  0.432606  \n",
      "\n",
      "[5 rows x 130 columns]\n"
     ]
    }
   ],
   "source": [
    "cats = [feat for feat in features if 'cat' in feat]\n",
    "for feat in cats:\n",
    "    train_test[feat] = pd.factorize(train_test[feat], sort=True)[0]\n",
    "\n",
    "print(train_test.head())\n",
    "\n",
    "x_train = np.array(train_test.iloc[:ntrain,:])\n",
    "x_test = np.array(train_test.iloc[ntrain:,:])"
   ]
  },
  {
   "cell_type": "code",
   "execution_count": 6,
   "metadata": {
    "collapsed": false
   },
   "outputs": [],
   "source": [
    "kf = KFold(ntrain, n_folds=NFOLDS, shuffle=True, random_state=SEED)"
   ]
  },
  {
   "cell_type": "code",
   "execution_count": 7,
   "metadata": {
    "collapsed": true
   },
   "outputs": [],
   "source": [
    "class SklearnWrapper(object):\n",
    "    def __init__(self, clf, seed=0, params=None):\n",
    "        params['random_state'] = seed\n",
    "        self.clf = clf(**params)\n",
    "\n",
    "    def train(self, x_train, y_train):\n",
    "        self.clf.fit(x_train, y_train)\n",
    "\n",
    "    def predict(self, x):\n",
    "        return self.clf.predict(x)"
   ]
  },
  {
   "cell_type": "code",
   "execution_count": 8,
   "metadata": {
    "collapsed": true
   },
   "outputs": [],
   "source": [
    "class XgbWrapper(object):\n",
    "    def __init__(self, seed=0, params=None):\n",
    "        self.param = params\n",
    "        self.param['seed'] = seed\n",
    "        self.nrounds = params.pop('nrounds', 250)\n",
    "\n",
    "    def train(self, x_train, y_train):\n",
    "        dtrain = xgb.DMatrix(x_train, label=y_train)\n",
    "        self.gbdt = xgb.train(self.param, dtrain, self.nrounds)\n",
    "\n",
    "    def predict(self, x):\n",
    "        return self.gbdt.predict(xgb.DMatrix(x))"
   ]
  },
  {
   "cell_type": "code",
   "execution_count": 9,
   "metadata": {
    "collapsed": true
   },
   "outputs": [],
   "source": [
    "def get_oof(clf):\n",
    "    oof_train = np.zeros((ntrain,))\n",
    "    oof_test = np.zeros((ntest,))\n",
    "    oof_test_skf = np.empty((NFOLDS, ntest))\n",
    "\n",
    "    for i, (train_index, test_index) in enumerate(kf):\n",
    "        x_tr = x_train[train_index]\n",
    "        y_tr = y_train[train_index]\n",
    "        x_te = x_train[test_index]\n",
    "\n",
    "        clf.train(x_tr, y_tr)\n",
    "\n",
    "        oof_train[test_index] = clf.predict(x_te)\n",
    "        oof_test_skf[i, :] = clf.predict(x_test)\n",
    "\n",
    "    oof_test[:] = oof_test_skf.mean(axis=0)\n",
    "    return oof_train.reshape(-1, 1), oof_test.reshape(-1, 1)"
   ]
  },
  {
   "cell_type": "code",
   "execution_count": 17,
   "metadata": {
    "collapsed": true
   },
   "outputs": [],
   "source": [
    "et_params = {\n",
    "    'n_jobs': -1,\n",
    "    'n_estimators': 200,\n",
    "    'max_features': 0.5,\n",
    "    'max_depth': 12,\n",
    "    'min_samples_leaf': 2,\n",
    "}\n",
    "\n",
    "et_params2 = {\n",
    "    'n_jobs': -1,\n",
    "    'n_estimators': 200,\n",
    "    'max_features': 0.25,\n",
    "    'max_depth': 6,\n",
    "    'min_samples_leaf': 2,\n",
    "    'criterion': 'mae'\n",
    "}\n",
    "\n",
    "rf_params = {\n",
    "    'n_jobs': -1,\n",
    "    'n_estimators': 200,\n",
    "    'max_features': 0.25,\n",
    "    'max_depth': 8,\n",
    "    'min_samples_leaf': 2,\n",
    "}\n",
    "\n",
    "rf_params2 = {\n",
    "    'n_jobs': -1,\n",
    "    'n_estimators': 200,\n",
    "    'max_features': 0.5,\n",
    "    'max_depth': 6,\n",
    "    'min_samples_leaf': 2,\n",
    "    'criterion': 'mae'\n",
    "}\n",
    "\n",
    "xgb_params = {\n",
    "    'n_jobs': -1,\n",
    "    'seed': 0,\n",
    "    'colsample_bytree': 0.7,\n",
    "    'silent': 1,\n",
    "    'subsample': 0.7,\n",
    "    'learning_rate': 0.04,\n",
    "    'objective': 'reg:linear',\n",
    "    'max_depth': 7,\n",
    "    'num_parallel_tree': 1,\n",
    "    'min_child_weight': 1,\n",
    "    'eval_metric': 'mae',\n",
    "    'nrounds': 350\n",
    "}\n",
    "\n"
   ]
  },
  {
   "cell_type": "code",
   "execution_count": 18,
   "metadata": {
    "collapsed": false
   },
   "outputs": [],
   "source": [
    "xg = XgbWrapper(seed=SEED, params=xgb_params)\n",
    "et = SklearnWrapper(clf=ExtraTreesRegressor, seed=SEED, params=et_params)\n",
    "rf = SklearnWrapper(clf=RandomForestRegressor, seed=SEED, params=rf_params)\n",
    "et2 = SklearnWrapper(clf=ExtraTreesRegressor, seed=SEED, params=et_params2)\n",
    "rf2 = SklearnWrapper(clf=RandomForestRegressor, seed=SEED, params=rf_params2)"
   ]
  },
  {
   "cell_type": "code",
   "execution_count": null,
   "metadata": {
    "collapsed": true
   },
   "outputs": [],
   "source": [
    "xg_oof_train, xg_oof_test = get_oof(xg)\n",
    "et_oof_train, et_oof_test = get_oof(et)\n",
    "rf_oof_train, rf_oof_test = get_oof(rf)\n",
    "et2_oof_train, et2_oof_test = get_oof(et2)\n",
    "rf2_oof_train, rf2_oof_test = get_oof(rf2)"
   ]
  },
  {
   "cell_type": "code",
   "execution_count": null,
   "metadata": {
    "collapsed": false
   },
   "outputs": [],
   "source": [
    "print(\"XG-CV: {}\".format(mean_absolute_error(y_train, xg_oof_train)))\n",
    "print(\"ET-CV: {}\".format(mean_absolute_error(y_train, et_oof_train)))\n",
    "print(\"RF-CV: {}\".format(mean_absolute_error(y_train, rf_oof_train)))\n",
    "print(\"ET2-CV: {}\".format(mean_absolute_error(y_train, et2_oof_train)))\n",
    "print(\"RF2-CV: {}\".format(mean_absolute_error(y_train, rf2_oof_train)))"
   ]
  },
  {
   "cell_type": "markdown",
   "metadata": {},
   "source": [
    "Clearly, the xg, et, and rf regressors are doing a solid job, and re-running them every time is a waste of time and energy, so let's save them and simply read them in from csv when we want to ensemble"
   ]
  },
  {
   "cell_type": "code",
   "execution_count": null,
   "metadata": {
    "collapsed": true
   },
   "outputs": [],
   "source": []
  },
  {
   "cell_type": "code",
   "execution_count": 14,
   "metadata": {
    "collapsed": false
   },
   "outputs": [
    {
     "name": "stdout",
     "output_type": "stream",
     "text": [
      "(188318, 3),(125546, 3)\n"
     ]
    }
   ],
   "source": [
    "x_train = np.concatenate((xg_oof_train, et_oof_train, rf_oof_train), axis=1)\n",
    "x_test = np.concatenate((xg_oof_test, et_oof_test, rf_oof_test), axis=1)\n",
    "\n",
    "print(\"{},{}\".format(x_train.shape, x_test.shape))"
   ]
  },
  {
   "cell_type": "code",
   "execution_count": 15,
   "metadata": {
    "collapsed": false
   },
   "outputs": [
    {
     "name": "stdout",
     "output_type": "stream",
     "text": [
      "[0]\ttrain-mae:3006.49+4.19014\ttest-mae:3006.49+12.7324\n",
      "[10]\ttrain-mae:2719.85+3.77514\ttest-mae:2719.83+12.8933\n",
      "[20]\ttrain-mae:2463.51+3.38504\ttest-mae:2463.48+13.267\n",
      "[30]\ttrain-mae:2236.35+3.02003\ttest-mae:2236.39+13.4033\n",
      "[40]\ttrain-mae:2038.71+2.56257\ttest-mae:2038.82+13.3325\n",
      "[50]\ttrain-mae:1869.83+2.27367\ttest-mae:1870.09+13.0377\n",
      "[60]\ttrain-mae:1727.93+1.78197\ttest-mae:1728.35+12.6914\n",
      "[70]\ttrain-mae:1610.35+1.51575\ttest-mae:1611.01+12.2194\n",
      "[80]\ttrain-mae:1514.36+1.25937\ttest-mae:1515.24+11.9594\n",
      "[90]\ttrain-mae:1436.48+1.34783\ttest-mae:1437.57+11.3221\n",
      "[100]\ttrain-mae:1374.2+1.21987\ttest-mae:1375.56+10.7053\n",
      "[110]\ttrain-mae:1324.33+1.07363\ttest-mae:1325.89+10.3493\n",
      "[120]\ttrain-mae:1285.15+0.949783\ttest-mae:1286.91+9.9801\n",
      "[130]\ttrain-mae:1254.08+1.17367\ttest-mae:1255.98+9.20725\n",
      "[140]\ttrain-mae:1229.98+1.16754\ttest-mae:1232.08+8.74768\n",
      "[150]\ttrain-mae:1211.32+0.970857\ttest-mae:1213.62+8.41304\n",
      "[160]\ttrain-mae:1196.97+0.891936\ttest-mae:1199.48+8.01031\n",
      "[170]\ttrain-mae:1186+0.888229\ttest-mae:1188.72+7.61128\n",
      "[180]\ttrain-mae:1177.67+0.997885\ttest-mae:1180.6+7.0366\n",
      "[190]\ttrain-mae:1171.73+1.10295\ttest-mae:1174.9+6.57255\n",
      "[200]\ttrain-mae:1167.42+1.13266\ttest-mae:1170.82+6.17631\n",
      "[210]\ttrain-mae:1164.25+1.23338\ttest-mae:1167.85+5.8386\n",
      "[220]\ttrain-mae:1162.27+1.10498\ttest-mae:1166.03+5.67274\n",
      "[230]\ttrain-mae:1161.16+1.22708\ttest-mae:1165.08+5.36094\n",
      "[240]\ttrain-mae:1160.51+1.33033\ttest-mae:1164.58+5.07362\n",
      "[250]\ttrain-mae:1160.38+1.33181\ttest-mae:1164.63+4.8444\n",
      "[260]\ttrain-mae:1160.62+1.34712\ttest-mae:1165.03+4.64488\n",
      "[270]\ttrain-mae:1161.12+1.38726\ttest-mae:1165.66+4.42547\n",
      "Ensemble-CV: 1164.54272475+4.94055081004\n"
     ]
    }
   ],
   "source": [
    "dtrain = xgb.DMatrix(x_train, label=y_train)\n",
    "dtest = xgb.DMatrix(x_test)\n",
    "\n",
    "xgb_params = {\n",
    "    'seed': 0,\n",
    "    'colsample_bytree': 0.8,\n",
    "    'silent': 1,\n",
    "    'subsample': 0.6,\n",
    "    'learning_rate': 0.01,\n",
    "    'objective': 'reg:linear',\n",
    "    'max_depth': 4,\n",
    "    'num_parallel_tree': 1,\n",
    "    'min_child_weight': 1,\n",
    "    'eval_metric': 'mae',\n",
    "}\n",
    "\n",
    "res = xgb.cv(xgb_params, dtrain, num_boost_round=500, nfold=4, seed=SEED, stratified=False,\n",
    "             early_stopping_rounds=25, verbose_eval=10, show_stdv=True)\n",
    "\n",
    "best_nrounds = res.shape[0] - 1\n",
    "cv_mean = res.iloc[-1, 0]\n",
    "cv_std = res.iloc[-1, 1]\n",
    "\n",
    "print('Ensemble-CV: {0}+{1}'.format(cv_mean, cv_std))"
   ]
  },
  {
   "cell_type": "code",
   "execution_count": null,
   "metadata": {
    "collapsed": true
   },
   "outputs": [],
   "source": [
    "gbdt = xgb.train(xgb_params, dtrain, best_nrounds)"
   ]
  },
  {
   "cell_type": "code",
   "execution_count": null,
   "metadata": {
    "collapsed": false
   },
   "outputs": [],
   "source": [
    "submission = pd.read_csv(SUBMISSION_FILE)\n",
    "submission.iloc[:, 1] = gbdt.predict(dtest)\n",
    "submission.to_csv('submissions/xgstacker_xg_et_rf_ad.sub.20161012.csv', index=None)"
   ]
  }
 ],
 "metadata": {
  "kernelspec": {
   "display_name": "Python 2",
   "language": "python",
   "name": "python2"
  },
  "language_info": {
   "codemirror_mode": {
    "name": "ipython",
    "version": 2
   },
   "file_extension": ".py",
   "mimetype": "text/x-python",
   "name": "python",
   "nbconvert_exporter": "python",
   "pygments_lexer": "ipython2",
   "version": "2.7.12"
  }
 },
 "nbformat": 4,
 "nbformat_minor": 0
}
